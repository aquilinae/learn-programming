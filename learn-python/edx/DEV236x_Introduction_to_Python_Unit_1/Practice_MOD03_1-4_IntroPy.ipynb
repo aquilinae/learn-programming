{
 "cells": [
  {
   "cell_type": "markdown",
   "metadata": {},
   "source": [
    "# 1-4.3 Intro Python Practice\n",
    "## Conditionals \n",
    "<font size=\"5\" color=\"#00A0B2\"  face=\"verdana\"> <B>Student will be able to</B></font>  \n",
    "- **control code flow with `if`... `else` conditional logic**  \n",
    "  - using Boolean string methods (`.isupper(), .isalpha(), startswith()...`)  \n",
    "  - using comparision (`>, <, >=, <=, ==, !=`)  \n",
    "  - using Strings in comparisons  "
   ]
  },
  {
   "cell_type": "markdown",
   "metadata": {},
   "source": [
    "## `if else`\n"
   ]
  },
  {
   "cell_type": "code",
   "execution_count": 1,
   "metadata": {},
   "outputs": [
    {
     "name": "stdout",
     "output_type": "stream",
     "text": [
      "enter age: 24\n",
      "age in 10 years is 34\n"
     ]
    }
   ],
   "source": [
    "# [ ] input avariable: age as digit and cast to int\n",
    "# if age greater than or equal to 12 then print message on age in 10 years \n",
    "# or else print message \"It is good to be\" age\n",
    "\n",
    "age = int(input(\"enter age: \"))\n",
    "\n",
    "if age >= 12:\n",
    "    print(\"age in 10 years is\", age + 10)\n",
    "else:\n",
    "    print(\"It is good to be\", age)"
   ]
  },
  {
   "cell_type": "code",
   "execution_count": 2,
   "metadata": {},
   "outputs": [
    {
     "name": "stdout",
     "output_type": "stream",
     "text": [
      "input a number: 101\n",
      "101 greater than 100 is True\n"
     ]
    }
   ],
   "source": [
    "# [ ] input a number \n",
    "# - if number is NOT a digit cast to int # WHY?\n",
    "# - print number \"greater than 100 is\" True/False\n",
    "\n",
    "number = input(\"input a number: \")\n",
    "\n",
    "if number.isdigit() == False:\n",
    "    number = int(number)\n",
    "    \n",
    "print(str(number), \"greater than 100 is\", str(int(number) > 100))"
   ]
  },
  {
   "cell_type": "markdown",
   "metadata": {},
   "source": [
    "### Guessing a letter A-Z  \n",
    "**check_guess()** takes 2 string arguments: **letter and guess** (both expect single alphabetical character)   \n",
    "    - if guess is not an alpha character print invalid and return False\n",
    "    - test and print if guess is \"high\" or \"low\" and return False\n",
    "    - test and print if guess is \"correct\" and return True"
   ]
  },
  {
   "cell_type": "code",
   "execution_count": 1,
   "metadata": {},
   "outputs": [
    {
     "name": "stdout",
     "output_type": "stream",
     "text": [
      "your guess is low\n",
      "your guess is high\n",
      "correct\n",
      "invalid\n"
     ]
    },
    {
     "data": {
      "text/plain": [
       "False"
      ]
     },
     "execution_count": 1,
     "metadata": {},
     "output_type": "execute_result"
    }
   ],
   "source": [
    "# [ ] create check_guess()\n",
    "# call with test\n",
    "\n",
    "def check_guess(letter, guess):\n",
    "    if guess.isalpha() == False:\n",
    "        print('invalid')\n",
    "        return False\n",
    "    elif guess > letter:\n",
    "        print('your guess is high')\n",
    "        return False\n",
    "    elif guess < letter:\n",
    "        print('your guess is low')\n",
    "        return False\n",
    "    else:\n",
    "        print('correct')\n",
    "        return True\n",
    "    \n",
    "check_guess('c', 'b')\n",
    "check_guess('c', 'd')\n",
    "check_guess('c', 'c')\n",
    "check_guess('c', '1')"
   ]
  },
  {
   "cell_type": "code",
   "execution_count": 2,
   "metadata": {},
   "outputs": [
    {
     "name": "stdout",
     "output_type": "stream",
     "text": [
      "enter a letter: c\n",
      "input a guess: b\n",
      "your guess is low\n"
     ]
    },
    {
     "data": {
      "text/plain": [
       "False"
      ]
     },
     "execution_count": 2,
     "metadata": {},
     "output_type": "execute_result"
    }
   ],
   "source": [
    "# [ ] call check_guess with user input\n",
    "\n",
    "letter = input(\"enter a letter: \")\n",
    "guess = input(\"input a guess: \")\n",
    "\n",
    "check_guess(letter, guess)"
   ]
  },
  {
   "cell_type": "markdown",
   "metadata": {},
   "source": [
    "### Letter Guess\n",
    "**create letter_guess() function that gives user 3 guesses**\n",
    "- takes a letter character argument for the answer letter\n",
    "- gets user input for letter guess  \n",
    "- calls check_guess() with answer and guess\n",
    "- End letter_guess if \n",
    "    - check_guess() equals True, return True  \n",
    "    - or after 3 failed attempts, return False"
   ]
  },
  {
   "cell_type": "code",
   "execution_count": 4,
   "metadata": {},
   "outputs": [
    {
     "name": "stdout",
     "output_type": "stream",
     "text": [
      "enter a letter guess: a\n",
      "your guess is low\n",
      "You have 2 guess attempts. Try again!\n",
      "enter a letter guess: b\n",
      "your guess is low\n",
      "You have 1 guess attempts. Try again!\n",
      "enter a letter guess: t\n",
      "your guess is high\n",
      "You have 0 guess attempts. You fail.\n"
     ]
    },
    {
     "data": {
      "text/plain": [
       "False"
      ]
     },
     "execution_count": 4,
     "metadata": {},
     "output_type": "execute_result"
    }
   ],
   "source": [
    "# [ ] create letter_guess() function, call the function to test\n",
    "\n",
    "def letter_guess(letter):\n",
    "    \n",
    "    guess = input(\"enter a letter guess: \")\n",
    "    if check_guess(letter, guess) == True:\n",
    "        return True\n",
    "    else:\n",
    "        print(\"You have 2 guess attempts. Try again!\")\n",
    "        pass\n",
    "    \n",
    "    guess = input(\"enter a letter guess: \")\n",
    "    if check_guess(letter, guess) == True:\n",
    "        return True\n",
    "    else:\n",
    "        print(\"You have 1 guess attempts. Try again!\")\n",
    "        pass\n",
    "    \n",
    "    guess = input(\"enter a letter guess: \")\n",
    "    if check_guess(letter, guess) == True:\n",
    "        return True\n",
    "    else:\n",
    "        print(\"You have 0 guess attempts. You fail.\")\n",
    "        return False\n",
    "\n",
    "letter = 'c'\n",
    "letter_guess(letter)"
   ]
  },
  {
   "cell_type": "markdown",
   "metadata": {},
   "source": [
    "### Pet Conversation\n",
    "**ask the user for a sentence about a pet and then reply**  \n",
    "- get user input in variable: about_pet\n",
    "- using a series of **if** statements respond with appropiet conversation\n",
    "  - check if \"dog\" is in the string about_pet (sample reply \"Ah, a dog\")\n",
    "  - check if \"cat\" is in the string about_pet\n",
    "  - check if 1 or more animal is in string about_pet\n",
    "- no need for **else**'s\n",
    "- finish with thanking for the story"
   ]
  },
  {
   "cell_type": "code",
   "execution_count": 5,
   "metadata": {},
   "outputs": [
    {
     "name": "stdout",
     "output_type": "stream",
     "text": [
      "Tell me about your pet: I have a cat named 'Plyushka'.\n",
      "Ah, a cat!\n"
     ]
    }
   ],
   "source": [
    "# [ ] complete pet conversation\n",
    "\n",
    "about_pet = input(\"Tell me about your pet: \")\n",
    "\n",
    "if \"dog\" in about_pet:\n",
    "    print(\"Ah, a dog!\")\n",
    "if \"cat\" in about_pet:\n",
    "    print(\"Ah, a cat!\")\n",
    "if \"parrot\" in about_pet:\n",
    "    print(\"Ah, a parrot!\")"
   ]
  },
  {
   "cell_type": "markdown",
   "metadata": {
    "collapsed": true
   },
   "source": [
    "[Terms of use](http://go.microsoft.com/fwlink/?LinkID=206977) &nbsp; [Privacy & cookies](https://go.microsoft.com/fwlink/?LinkId=521839) &nbsp; © 2017 Microsoft"
   ]
  }
 ],
 "metadata": {
  "anaconda-cloud": {},
  "kernelspec": {
   "display_name": "Python 3",
   "language": "python",
   "name": "python3"
  },
  "language_info": {
   "codemirror_mode": {
    "name": "ipython",
    "version": 3
   },
   "file_extension": ".py",
   "mimetype": "text/x-python",
   "name": "python",
   "nbconvert_exporter": "python",
   "pygments_lexer": "ipython3",
   "version": "3.5.1"
  }
 },
 "nbformat": 4,
 "nbformat_minor": 1
}
