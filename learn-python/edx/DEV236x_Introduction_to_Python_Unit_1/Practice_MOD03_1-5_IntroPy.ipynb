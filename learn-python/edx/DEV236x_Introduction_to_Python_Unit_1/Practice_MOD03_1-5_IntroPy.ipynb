{
 "cells": [
  {
   "cell_type": "markdown",
   "metadata": {},
   "source": [
    "# 1-5 Intro Python Practice  \n",
    "## conditionals, type, and mathematics extended   \n",
    "&nbsp;\n",
    "<font size=\"5\" color=\"#00A0B2\"  face=\"verdana\"> <B>Student will be able to</B></font>  \n",
    "- code more than two choices using **`elif`** \n",
    "- gather numeric input using type casting  \n",
    "- perform subtraction, multiplication and division operations in code  &nbsp;  \n"
   ]
  },
  {
   "cell_type": "markdown",
   "metadata": {},
   "source": [
    "# &nbsp;  \n",
    "<font size=\"6\" color=\"#B24C00\"  face=\"verdana\"> <B>Tasks</B></font>"
   ]
  },
  {
   "cell_type": "markdown",
   "metadata": {},
   "source": [
    "### Rainbow colors\n",
    "ask for input of a favorite rainbow color first letter: ROYGBIV  \n",
    "\n",
    "Using `if`, `elif`, and `else`:  \n",
    "- print the color matching the letter  \n",
    "    - R = Red  \n",
    "    - O = Orange  \n",
    "    - Y = Yellow  \n",
    "    - G = Green\n",
    "    - B = Blue\n",
    "    - I = Indigo\n",
    "    - V = Violet\n",
    "    - else print \"no match\"\n"
   ]
  },
  {
   "cell_type": "code",
   "execution_count": 1,
   "metadata": {},
   "outputs": [
    {
     "name": "stdout",
     "output_type": "stream",
     "text": [
      "enter rainbow color firest letter (ROYGBIV): G\n",
      "G = Green\n"
     ]
    }
   ],
   "source": [
    "# [ ] complete rainbow colors\n",
    "\n",
    "color = input(\"enter rainbow color firest letter (ROYGBIV): \")\n",
    "\n",
    "if color == 'R':\n",
    "    print(\"R = Red\")\n",
    "elif color == 'O':\n",
    "    print(\"O = Orange\")\n",
    "elif color == 'Y':\n",
    "    print(\"Y = Yellow\")\n",
    "elif color == 'G':\n",
    "    print(\"G = Green\")\n",
    "elif color == 'B':\n",
    "    print(\"B = Blue\")\n",
    "elif color == 'I':\n",
    "    print(\"I = Indigo\")\n",
    "elif color == 'V':\n",
    "    print(\"V = Violet\")\n",
    "else:\n",
    "    print(\"no match\")"
   ]
  },
  {
   "cell_type": "code",
   "execution_count": 3,
   "metadata": {},
   "outputs": [
    {
     "name": "stdout",
     "output_type": "stream",
     "text": [
      "enter rainbow color firest letter (ROYGBIV): R\n",
      "R = Red\n",
      "V = Violet\n",
      "I = Indigo\n",
      "B = Blue\n",
      "G = Green\n",
      "Y = Yellow\n",
      "O = Orange\n",
      "R = Red\n",
      "no match\n"
     ]
    }
   ],
   "source": [
    "# [ ] make the code above into a function rainbow_color() that has a string parameter, \n",
    "# get input and call the function and return the matching color as a string or \"no match\" message.\n",
    "# Call the function and print the return string.\n",
    "\n",
    "def rainbow_color(color):\n",
    "    if color == 'R':\n",
    "        return \"R = Red\"\n",
    "    elif color == 'O':\n",
    "        return \"O = Orange\"\n",
    "    elif color == 'Y':\n",
    "        return \"Y = Yellow\"\n",
    "    elif color == 'G':\n",
    "        return \"G = Green\"\n",
    "    elif color == 'B':\n",
    "        return \"B = Blue\"\n",
    "    elif color == 'I':\n",
    "        return \"I = Indigo\"\n",
    "    elif color == 'V':\n",
    "        return \"V = Violet\"\n",
    "    else:\n",
    "        return \"no match\"\n",
    "        \n",
    "color = input(\"enter rainbow color firest letter (ROYGBIV): \")\n",
    "print(rainbow_color(color))\n",
    "\n",
    "color = 'V'\n",
    "print(rainbow_color(color))\n",
    "color = 'I'\n",
    "print(rainbow_color(color))\n",
    "color = 'B'\n",
    "print(rainbow_color(color))\n",
    "color = 'G'\n",
    "print(rainbow_color(color))\n",
    "color = 'Y'\n",
    "print(rainbow_color(color))\n",
    "color = 'O'\n",
    "print(rainbow_color(color))\n",
    "color = 'R'\n",
    "print(rainbow_color(color))\n",
    "color = 'Z'\n",
    "print(rainbow_color(color))"
   ]
  },
  {
   "cell_type": "markdown",
   "metadata": {},
   "source": [
    "# &nbsp;  \n",
    "**Create function age_20() that adds or subtracts 20 from your age for a return value based on current age** (use `if`) \n",
    "- call the funtion with user input and then use the return value in a sentence  \n",
    "example `age_20(25)` returns **5**: \n",
    "> \"5 years old, 20 years difference from now\""
   ]
  },
  {
   "cell_type": "code",
   "execution_count": 6,
   "metadata": {},
   "outputs": [
    {
     "name": "stdout",
     "output_type": "stream",
     "text": [
      "4 years old, 20 years difference from now\n",
      "39 years old, 20 years difference from now\n"
     ]
    }
   ],
   "source": [
    "# [ ] complete age_20()\n",
    "\n",
    "def age_20(age):\n",
    "    if age > 20:\n",
    "        return str(age - 20) + \" years old, 20 years difference from now\"\n",
    "    else:\n",
    "        return str(age + 20) + \" years old, 20 years difference from now\"\n",
    "\n",
    "print(age_20(24))\n",
    "print(age_20(19))"
   ]
  },
  {
   "cell_type": "markdown",
   "metadata": {},
   "source": [
    "**create a function rainbow_or_age that takes a string argument**\n",
    "- if argument is a digit return the value of calling age_20() with the str value cast as **`int`** \n",
    "- if argument is an alphabetical character return the value of calling rainbow_color() with the str\n",
    "- if neither return FALSE"
   ]
  },
  {
   "cell_type": "code",
   "execution_count": 11,
   "metadata": {},
   "outputs": [
    {
     "name": "stdout",
     "output_type": "stream",
     "text": [
      "V = Violet\n",
      "R = Red\n",
      "no match\n",
      "4 years old, 20 years difference from now\n",
      "39 years old, 20 years difference from now\n",
      "20 years old, 20 years difference from now\n",
      "no match\n",
      "False\n"
     ]
    }
   ],
   "source": [
    "# [ ]  create rainbow_or_age()\n",
    "\n",
    "def rainbow_or_age(arg):\n",
    "    if arg.isdigit():\n",
    "        return age_20(int(arg))\n",
    "    elif arg.isalpha():\n",
    "        return rainbow_color(arg)\n",
    "    else:\n",
    "        return False\n",
    "    \n",
    "arg = 'V'\n",
    "print(rainbow_or_age(arg))\n",
    "arg = 'R'\n",
    "print(rainbow_or_age(arg))\n",
    "arg = 'Z'\n",
    "print(rainbow_or_age(arg))\n",
    "arg = '24'\n",
    "print(rainbow_or_age(arg))\n",
    "arg = '19'\n",
    "print(rainbow_or_age(arg))\n",
    "arg = '0'\n",
    "print(rainbow_or_age(arg))\n",
    "arg = 'someting'\n",
    "print(rainbow_or_age(arg))\n",
    "arg = '?'\n",
    "print(rainbow_or_age(arg))"
   ]
  },
  {
   "cell_type": "code",
   "execution_count": 1,
   "metadata": {},
   "outputs": [
    {
     "name": "stdout",
     "output_type": "stream",
     "text": [
      "enter a number: 24\n",
      "enter a number: 12\n",
      "36\n"
     ]
    }
   ],
   "source": [
    "# [ ]  add 2 numbers from input using a cast to integer and display the answer\n",
    "num1 = int(input(\"enter a number: \"))\n",
    "num2 = int(input(\"enter a number: \"))\n",
    "print(num1 + num2)"
   ]
  },
  {
   "cell_type": "code",
   "execution_count": 2,
   "metadata": {},
   "outputs": [
    {
     "name": "stdout",
     "output_type": "stream",
     "text": [
      "enter a number: 6\n",
      "enter a number: 4\n",
      "the answer is 24\n"
     ]
    }
   ],
   "source": [
    "# [ ] Multiply 2 numbers from input using cast and save the answer as part of a string \"the answer is...\"\n",
    "# display the string using print\n",
    "num1 = int(input(\"enter a number: \"))\n",
    "num2 = int(input(\"enter a number: \"))\n",
    "print(\"the answer is\", num1 * num2)"
   ]
  },
  {
   "cell_type": "code",
   "execution_count": 1,
   "metadata": {},
   "outputs": [
    {
     "name": "stdout",
     "output_type": "stream",
     "text": [
      "enter a number: 6\n",
      "enter a number: 4\n",
      "5.0\n"
     ]
    }
   ],
   "source": [
    "# [ ] get input of 2 numbers and display the average: (num1 + num2) divided by 2\n",
    "num1 = int(input(\"enter a number: \"))\n",
    "num2 = int(input(\"enter a number: \"))\n",
    "print((num1 + num2) / 2)"
   ]
  },
  {
   "cell_type": "code",
   "execution_count": 2,
   "metadata": {},
   "outputs": [
    {
     "name": "stdout",
     "output_type": "stream",
     "text": [
      "enter a number: 6\n",
      "enter a number: 4\n",
      "2\n"
     ]
    }
   ],
   "source": [
    "# [ ] get input of 2 numbers and subtract the largest from the smallest (use an if statement to see which is larger)\n",
    "# show the answer\n",
    "num1 = int(input(\"enter a number: \"))\n",
    "num2 = int(input(\"enter a number: \"))\n",
    "if num1 > num2:\n",
    "    print(num1 - num2)\n",
    "elif num1 <= num2:\n",
    "    print(num2 - num1)  "
   ]
  },
  {
   "cell_type": "code",
   "execution_count": null,
   "metadata": {},
   "outputs": [],
   "source": [
    "# [ ] Divide a larger number by a smaller number and print the integer part of the result\n",
    "# don't divide by zero! if a zero is input make the result zero\n",
    "# [ ] cast the answer to an integer to cut off the decimals and print the result\n",
    "num1 = int(input(\"enter a number: \"))\n",
    "num2 = int(input(\"enter a number: \"))\n",
    "if num1 > num2:\n",
    "    print(int(num1 / num2))\n",
    "elif num1 <= num2:\n",
    "    print(int(num2 / num1))"
   ]
  },
  {
   "cell_type": "markdown",
   "metadata": {},
   "source": [
    "[Terms of use](http://go.microsoft.com/fwlink/?LinkID=206977) &nbsp; [Privacy & cookies](https://go.microsoft.com/fwlink/?LinkId=521839) &nbsp; © 2017 Microsoft"
   ]
  }
 ],
 "metadata": {
  "anaconda-cloud": {},
  "kernelspec": {
   "display_name": "Python 3",
   "language": "python",
   "name": "python3"
  },
  "language_info": {
   "codemirror_mode": {
    "name": "ipython",
    "version": 3
   },
   "file_extension": ".py",
   "mimetype": "text/x-python",
   "name": "python",
   "nbconvert_exporter": "python",
   "pygments_lexer": "ipython3",
   "version": "3.5.1"
  }
 },
 "nbformat": 4,
 "nbformat_minor": 1
}
