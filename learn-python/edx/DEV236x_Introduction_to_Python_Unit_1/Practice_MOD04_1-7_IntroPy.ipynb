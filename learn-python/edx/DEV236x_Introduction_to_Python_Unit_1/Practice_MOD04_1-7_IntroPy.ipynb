{
 "cells": [
  {
   "cell_type": "markdown",
   "metadata": {},
   "source": [
    "# 1-7.2 Intro Python Practice\n",
    "## `while()` loops & increments\n",
    "<font size=\"5\" color=\"#00A0B2\"  face=\"verdana\"> <B>Student will be able to</B></font>\n",
    "- create forever loops using `while` and `break`\n",
    "- use incrementing variables in a while loop\n",
    "- control while loops using Boolean operators"
   ]
  },
  {
   "cell_type": "code",
   "execution_count": 1,
   "metadata": {},
   "outputs": [
    {
     "name": "stdout",
     "output_type": "stream",
     "text": [
      "enter an integer: 12\n",
      "enter an integer: 12\n",
      "enter an integer: 24\n",
      "enter an integer: 0\n",
      "enter an integer: 8\n",
      "enter an integer: z\n",
      "56\n"
     ]
    }
   ],
   "source": [
    "# [ ] use a \"forever\" while loop to get user input of integers to add to sum, \n",
    "# until a non-digit is entered, then break the loop and print sum\n",
    "sum = 0\n",
    "\n",
    "while True:\n",
    "    addition = input(\"enter an integer: \")\n",
    "    if addition.isdigit():\n",
    "        sum += int(addition)\n",
    "    else:\n",
    "        print(sum)\n",
    "        break"
   ]
  },
  {
   "cell_type": "code",
   "execution_count": 2,
   "metadata": {},
   "outputs": [
    {
     "name": "stdout",
     "output_type": "stream",
     "text": [
      "enter rainbow colors: red\n",
      "Wrong, try again!\n",
      "enter rainbow colors: red orange yellow green blue indigo violet\n",
      "Great!\n"
     ]
    }
   ],
   "source": [
    "# [ ] use a while True loop (forever loop) to give 4 chances for input of a correct color in a rainbow\n",
    "# rainbow = \"red orange yellow green blue indigo violet\"\n",
    "\n",
    "rainbow = \"red orange yellow green blue indigo violet\"\n",
    "cnt = 1\n",
    "get_rainbow = input(\"enter rainbow colors: \")\n",
    "\n",
    "while True:    \n",
    "    if get_rainbow == rainbow:\n",
    "        print(\"Great!\")\n",
    "        break\n",
    "    elif cnt < 4:\n",
    "        print(\"Wrong, try again!\")\n",
    "        cnt += 1\n",
    "    else:\n",
    "        break\n",
    "    get_rainbow = input(\"enter rainbow colors: \")"
   ]
  },
  {
   "cell_type": "code",
   "execution_count": 2,
   "metadata": {},
   "outputs": [
    {
     "name": "stdout",
     "output_type": "stream",
     "text": [
      "enter a book title: Of Mice and Men\n",
      "enter a book title: To a God Unknown\n",
      "enter a book title: Brave New World\n"
     ]
    }
   ],
   "source": [
    "# [ ] Get input for a book title, keep looping while input is Not in title format (title is every word capitalized)\n",
    "title = input(\"enter a book title: \")\n",
    "\n",
    "while title != title.title():\n",
    "    title = input(\"enter a book title: \")"
   ]
  },
  {
   "cell_type": "code",
   "execution_count": 3,
   "metadata": {},
   "outputs": [
    {
     "name": "stdout",
     "output_type": "stream",
     "text": [
      "How many yards are in one mile: 99\n",
      "How many yards are in one mile: 101\n",
      "How many yards are in one mile: 1761\n",
      "How many yards are in one mile: 1759\n",
      "How many yards are in one mile: 0\n",
      "How many yards are in one mile: 1760\n"
     ]
    }
   ],
   "source": [
    "# [ ] create a math quiz question and ask for the solution until the input is correct\n",
    "\n",
    "while True:\n",
    "    answer = input(\"How many yards are in one mile: \")\n",
    "    if answer == '1760':\n",
    "        break"
   ]
  },
  {
   "cell_type": "markdown",
   "metadata": {},
   "source": [
    "### Fix the Error"
   ]
  },
  {
   "cell_type": "code",
   "execution_count": 1,
   "metadata": {},
   "outputs": [
    {
     "name": "stdout",
     "output_type": "stream",
     "text": [
      "enter tickets remaining (0 to quit): 17\n",
      "sorry, not a winner.\n",
      "enter tickets remaining (0 to quit): 19\n",
      "sorry, not a winner.\n",
      "enter tickets remaining (0 to quit): 20\n",
      "sorry, not a winner.\n",
      "enter tickets remaining (0 to quit): 1\n",
      "sorry, not a winner.\n",
      "enter tickets remaining (0 to quit): 21\n",
      "you win!\n",
      "enter tickets remaining (0 to quit): 27\n",
      "you win!\n",
      "enter tickets remaining (0 to quit): 0\n",
      "Game ended\n"
     ]
    }
   ],
   "source": [
    "# [ ] review the code, run, fix the error\n",
    "tickets = int(input(\"enter tickets remaining (0 to quit): \"))\n",
    "\n",
    "while tickets > 0:\n",
    "        # if tickets are multiple of 3 then \"winner\"\n",
    "    if int(tickets/3) == tickets/3:\n",
    "        print(\"you win!\")\n",
    "    else:\n",
    "        print(\"sorry, not a winner.\")\n",
    "    tickets = int(input(\"enter tickets remaining (0 to quit): \"))\n",
    "\n",
    "print(\"Game ended\")"
   ]
  },
  {
   "cell_type": "markdown",
   "metadata": {},
   "source": [
    "### create a function: quiz_item()  that asks a question and tests if input is correct  \n",
    "- quiz_item()has 2 parameter **strings**: question and solution  \n",
    "- shows question, gets answer input  \n",
    "- returns True if `answer == solution` or continues to ask question until correct answer is provided  \n",
    "- use a while loop\n",
    "\n",
    "create 2 or more quiz questions that call quiz_item()  \n",
    "**Hint**: provide multiple choice or T/F answers"
   ]
  },
  {
   "cell_type": "code",
   "execution_count": 1,
   "metadata": {},
   "outputs": [
    {
     "name": "stdout",
     "output_type": "stream",
     "text": [
      "When Python 2 support is end?\n",
      "enter your answer: 2019\n",
      "Sorry, wrong answer. Try again!\n",
      "enter your answer: 2017\n",
      "Sorry, wrong answer. Try again!\n",
      "enter your answer: 2020\n",
      "Yes!\n",
      "How Python style guide is called?\n",
      "enter your answer: PEP2020\n",
      "Sorry, wrong answer. Try again!\n",
      "enter your answer: PEP8\n",
      "Yes!\n"
     ]
    }
   ],
   "source": [
    "# Create quiz_item() and 2 or more quiz questions that call quiz_item()\n",
    "\n",
    "def quiz_item(question, solution):\n",
    "    print(question)\n",
    "    while True:\n",
    "        answer = input(\"enter your answer: \")\n",
    "        if answer == solution:\n",
    "            print(\"Yes!\")\n",
    "            break\n",
    "            return True\n",
    "        else:\n",
    "            print(\"Sorry, wrong answer. Try again!\")\n",
    "\n",
    "question = \"When Python 2 support is end?\"\n",
    "solution = \"2020\"\n",
    "quiz_item(question, solution)\n",
    "question = \"How Python style guide is called?\"\n",
    "solution = \"PEP8\"\n",
    "quiz_item(question, solution)"
   ]
  },
  {
   "cell_type": "markdown",
   "metadata": {
    "collapsed": true
   },
   "source": [
    "[Terms of use](http://go.microsoft.com/fwlink/?LinkID=206977) &nbsp; [Privacy & cookies](https://go.microsoft.com/fwlink/?LinkId=521839) &nbsp; © 2017 Microsoft"
   ]
  }
 ],
 "metadata": {
  "anaconda-cloud": {},
  "kernelspec": {
   "display_name": "Python 3",
   "language": "python",
   "name": "python3"
  },
  "language_info": {
   "codemirror_mode": {
    "name": "ipython",
    "version": 3
   },
   "file_extension": ".py",
   "mimetype": "text/x-python",
   "name": "python",
   "nbconvert_exporter": "python",
   "pygments_lexer": "ipython3",
   "version": "3.5.1"
  }
 },
 "nbformat": 4,
 "nbformat_minor": 1
}
