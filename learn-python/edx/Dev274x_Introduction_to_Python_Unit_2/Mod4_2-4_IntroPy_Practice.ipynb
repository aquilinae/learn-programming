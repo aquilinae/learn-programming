{
 "cells": [
  {
   "cell_type": "markdown",
   "metadata": {},
   "source": [
    "# 2-4 Intro Python Practice\n",
    "## Working with Files\n",
    "\n",
    "<font size=\"5\" color=\"#00A0B2\"  face=\"verdana\"> <B>Student will be able to</B></font>  \n",
    " \n",
    "- Import files into Jupyter notebooks  \n",
    "- Open and **`.read()`** local files in memory   \n",
    "- Use **`.read()`** to read a specific number of characters  \n",
    "- Use **`.readlines()`** to read data from file as a **list** of lines  \n",
    "- Use **`.readlines()`** to read data from file as a **list** of lines   \n",
    "- Use **`.readline()`** to read data from file a line at a time   \n",
    "- Use **`.strip()`** to remove new line characters  \n",
    "- Use `.write()` to write data to a new local file  \n",
    "- Use **`.seek()`** to set file read or write location  \n",
    "- Use file append mode  \n"
   ]
  },
  {
   "cell_type": "markdown",
   "metadata": {
    "collapsed": true
   },
   "source": [
    "# &nbsp;\n",
    "<font size=\"6\" color=\"#B24C00\"  face=\"verdana\"> <B>Task 1</B></font>\n",
    "\n",
    "## Order the Rainbow\n",
    "#### Open the rainbow file then put in a list and print in alphabetical order\n",
    "Download and open the file. \n",
    "- Download list of rainbow colors, as `rainbow.txt`, using `curl` \n",
    "  https://raw.githubusercontent.com/MicrosoftLearning/intropython/master/rainbow   \n",
    "- Open rainbow.txt in read mode using a variable: rainbow_file   \n",
    " "
   ]
  },
  {
   "cell_type": "code",
   "execution_count": 1,
   "metadata": {},
   "outputs": [
    {
     "name": "stdout",
     "output_type": "stream",
     "text": [
      "  % Total    % Received % Xferd  Average Speed   Time    Time     Time  Current\n",
      "                                 Dload  Upload   Total   Spent    Left  Speed\n",
      "100    43  100    43    0     0    459      0 --:--:-- --:--:-- --:--:--   467\n"
     ]
    }
   ],
   "source": [
    "# [ ] import https://raw.githubusercontent.com/MicrosoftLearning/intropython/master/rainbow as rainbow.txt\n",
    "\n",
    "!curl https://raw.githubusercontent.com/MicrosoftLearning/intropython/master/rainbow -o rainbow.txt"
   ]
  },
  {
   "cell_type": "markdown",
   "metadata": {},
   "source": [
    "\n",
    "- Read rainbow_file as a list variable: rainbow_colors using `.readlines()`    \n"
   ]
  },
  {
   "cell_type": "code",
   "execution_count": 2,
   "metadata": {
    "collapsed": true
   },
   "outputs": [],
   "source": [
    "# [ ]  Open rainbow.txt in read mode & read as list with .readlines()\n",
    "\n",
    "rainbow_file = open('rainbow.txt', 'r')\n",
    "rainbow_lines= rainbow_file.readlines()"
   ]
  },
  {
   "cell_type": "markdown",
   "metadata": {},
   "source": [
    " \n",
    "1. Sort the rainbow_lines list alphabetically.  \n",
    "2. Print each line of rainbow_lines by iterating the sorted list.  \n",
    "3. Close rainbow_file.  "
   ]
  },
  {
   "cell_type": "code",
   "execution_count": 3,
   "metadata": {},
   "outputs": [
    {
     "name": "stdout",
     "output_type": "stream",
     "text": [
      "blue\n",
      "\n",
      "green\n",
      "\n",
      "indigo\n",
      "\n",
      "orange\n",
      "\n",
      "red\n",
      "\n",
      "violet\n",
      "\n",
      "yellow\n",
      "\n"
     ]
    }
   ],
   "source": [
    "# [ ] sort rainbow_colors list, iterate the list to print each color\n",
    "\n",
    "rainbow_lines.sort()\n",
    "\n",
    "for line in rainbow_lines:\n",
    "    print(line)\n",
    "\n",
    "rainbow_file.close()"
   ]
  },
  {
   "cell_type": "markdown",
   "metadata": {
    "collapsed": true
   },
   "source": [
    "# &nbsp;\n",
    "<font size=\"6\" color=\"#B24C00\"  face=\"verdana\"> <B>Task 2</B></font>\n",
    "\n",
    "## The Weather\n",
    "Create a program that reads from a file to display city name and average temperature in Celsius.   \n",
    "\n",
    "&nbsp;  \n",
    "- use `!curl` to download https://raw.githubusercontent.com/MicrosoftLearning/intropython/master/world_temp_mean.csv as `mean_temp.txt`  \n",
    "  \n"
   ]
  },
  {
   "cell_type": "code",
   "execution_count": 4,
   "metadata": {},
   "outputs": [
    {
     "name": "stdout",
     "output_type": "stream",
     "text": [
      "  % Total    % Received % Xferd  Average Speed   Time    Time     Time  Current\n",
      "                                 Dload  Upload   Total   Spent    Left  Speed\n",
      "100   222  100   222    0     0   1724      0 --:--:-- --:--:-- --:--:--  1748\n"
     ]
    }
   ],
   "source": [
    "# [ ] The Weather: import world_mean_team.csv as mean_temp.txt\n",
    "\n",
    "!curl https://raw.githubusercontent.com/MicrosoftLearning/intropython/master/world_temp_mean.csv -o mean_temp.txt"
   ]
  },
  {
   "cell_type": "markdown",
   "metadata": {},
   "source": [
    "1. Open the file in `'r'` mode.  \n",
    "2. Read the first line of text into a variable called: `  headings` and `print()`.  \n",
    "3. Convert `headings` to a list using **`.split(',')`** which splits on each comma, `print()` the list.\n"
   ]
  },
  {
   "cell_type": "code",
   "execution_count": 5,
   "metadata": {},
   "outputs": [
    {
     "name": "stdout",
     "output_type": "stream",
     "text": [
      "city,country,month ave: highest high,month ave: lowest low\n",
      "\n"
     ]
    }
   ],
   "source": [
    "# [ ] The Weather: open file, read/print first line, convert line to list (splitting on comma)\n",
    "\n",
    "temp_file = open('mean_temp.txt', 'r')\n",
    "headings = temp_file.readline()\n",
    "print(headings)"
   ]
  },
  {
   "cell_type": "markdown",
   "metadata": {},
   "source": [
    "#### use a while loop to read the remaining lines from the file  \n",
    "  1. Assign remaining lines to a **`city_temp`** variable.  \n",
    "  2. Convert the city_temp to a list using **`.split(',')`** for each **`.readline()`** in the loop.  \n",
    "  3. Print each city & the highest monthly average temperature.  \n",
    "  4. Close mean_temps.  \n",
    "\n",
    ">Tips & Hints:   \n",
    "- Use the print output of **`headings`** to determine the city_temp indexes to use.  \n",
    "- \"month ave: highest high\" for Beijing is 30.9 Celsius.  \n",
    "- Convert `city_temp` to lists with `.split(',')`.  "
   ]
  },
  {
   "cell_type": "code",
   "execution_count": 6,
   "metadata": {},
   "outputs": [
    {
     "name": "stdout",
     "output_type": "stream",
     "text": [
      "Beijing 30.9\n",
      "Cairo 34.7\n",
      "London 23.5\n",
      "Nairobi 26.3\n",
      "New York City 28.9\n",
      "Sydney 26.5\n",
      "Tokyo 30.8\n"
     ]
    }
   ],
   "source": [
    "# [ ] The Weather: use while loop to print city and highest monthly average temp in celsius\n",
    "\n",
    "while True:    \n",
    "    city_temp = temp_file.readline().split(',')\n",
    "    if len(city_temp) == 1: # kludge\n",
    "        break        \n",
    "    print(city_temp[0], str(city_temp[2]))"
   ]
  },
  {
   "cell_type": "markdown",
   "metadata": {
    "collapsed": true
   },
   "source": [
    "# &nbsp;  \n",
    "<font size=\"6\" color=\"#B24C00\"  face=\"verdana\"> <B>Task 3</B></font>  \n",
    "\n",
    "## Random pi  guessing\n",
    "Create random appearing numbers by reading digits of pi \n",
    "*Note: only \"appears\" random*\n",
    "\n",
    "- Download https://raw.githubusercontent.com/MicrosoftLearning/intropython/master/digits_of_pi  as pi.txt"
   ]
  },
  {
   "cell_type": "code",
   "execution_count": 7,
   "metadata": {},
   "outputs": [
    {
     "name": "stdout",
     "output_type": "stream",
     "text": [
      "  % Total    % Received % Xferd  Average Speed   Time    Time     Time  Current\n",
      "                                 Dload  Upload   Total   Spent    Left  Speed\n",
      "100   303  100   303    0     0   2292      0 --:--:-- --:--:-- --:--:--  2312\n"
     ]
    }
   ],
   "source": [
    "# [ ] use curl to download https://raw.githubusercontent.com/MicrosoftLearning/intropython/master/digits_of_pi as pi.txt\n",
    " \n",
    "!curl https://raw.githubusercontent.com/MicrosoftLearning/intropython/master/digits_of_pi -o pi.txt"
   ]
  },
  {
   "cell_type": "markdown",
   "metadata": {},
   "source": [
    "#### Set up the project files and intitial values  \n",
    "1. Open pi.txt in read mode, the file has a single line of text \"3.14....\".  \n",
    "2. Get user name as input and say \"hi\".  \n",
    "3. Use the length of `name` for variable called `seed`.  \n",
    "4. Use `.seek()` with the value of `seed` to set the initial pointer location reading the file.  \n",
    "5. Create a variable `digit` and assign it the value of reading one character from the file.  \n",
    "6. Get `guess` variable value from users `input`  - \"enter a single digit guess or \"q\" to quit\".  \n",
    "7. Initialize `correct` and `wrong` counter variables to **`0`**  (zero).  "
   ]
  },
  {
   "cell_type": "code",
   "execution_count": 8,
   "metadata": {},
   "outputs": [
    {
     "name": "stdout",
     "output_type": "stream",
     "text": [
      "Enter your name: Nikolai\n",
      "Hi, Nikolai\n",
      "enter a single digit guess or 'q' to quit: 1\n"
     ]
    }
   ],
   "source": [
    "# [ ] Set up the project files and initial values\n",
    "\n",
    "pi_file = open('pi.txt', 'r')\n",
    "\n",
    "username = input(\"Enter your name: \")\n",
    "print(\"Hi,\", username)\n",
    "\n",
    "seed = len(username) - 1\n",
    "\n",
    "pi_file.seek(seed)\n",
    "digit = pi_file.read(1)\n",
    "\n",
    "cnt_correct = 0\n",
    "cnt_wrong = 0\n",
    "guess = input(\"enter a single digit guess or 'q' to quit: \")"
   ]
  },
  {
   "cell_type": "markdown",
   "metadata": {},
   "source": [
    "#### Create a while loop that tests that `guess` is a *digit* string\n",
    "then in the loop:\n",
    "1. if `digit` ( read from pi file) is \"**.**\" read the next character for digit  \n",
    "2. else if `digit` is \"\\n\" increment `seed` and use `seed` to set the pointer uing .`seek()`  \n",
    "3. else see if `guess` is equal to `digit`   \n",
    "  a. if `guess` equals `digit`: print \"correct\" and increment the varible named `correct`  \n",
    "  b. if `guess` not equal `digit`: print \"incorrect\" and increment the variable named `wrong`  \n",
    "  \n",
    "**end the while loop** when user enters any non-digit(s) for `guess`, like \"q\".  \n",
    "- Print `correct` and `wrong` values within a message to the user.  \n",
    "- Close the pi file.  "
   ]
  },
  {
   "cell_type": "code",
   "execution_count": 9,
   "metadata": {},
   "outputs": [
    {
     "name": "stdout",
     "output_type": "stream",
     "text": [
      "start checking GUESS block\n",
      "Your guess is wrong!\n",
      "enter a single digit guess or 'q' to quit: 2\n",
      "start checking GUESS block\n",
      "Your guess is wrong!\n",
      "enter a single digit guess or 'q' to quit: 3\n",
      "start checking GUESS block\n",
      "Your guess is wrong!\n",
      "enter a single digit guess or 'q' to quit: 4\n",
      "start checking GUESS block\n",
      "Your guess is wrong!\n",
      "enter a single digit guess or 'q' to quit: 5\n",
      "start checking GUESS block\n",
      "Your guess is wrong!\n",
      "enter a single digit guess or 'q' to quit: 6\n",
      "start checking GUESS block\n",
      "Your guess is wrong!\n",
      "enter a single digit guess or 'q' to quit: 7\n",
      "start checking GUESS block\n",
      "Your guess is wrong!\n",
      "enter a single digit guess or 'q' to quit: 8\n",
      "start checking GUESS block\n",
      "Your guess is wrong!\n",
      "enter a single digit guess or 'q' to quit: 9\n",
      "start checking GUESS block\n",
      "Your guess is correct!\n",
      "enter a single digit guess or 'q' to quit: 1\n",
      "start checking GUESS block\n",
      "Your guess is wrong!\n",
      "enter a single digit guess or 'q' to quit: 2\n",
      "start checking GUESS block\n",
      "Your guess is correct!\n",
      "enter a single digit guess or 'q' to quit: 3\n",
      "start checking GUESS block\n",
      "Your guess is wrong!\n",
      "enter a single digit guess or 'q' to quit: 2\n",
      "start checking GUESS block\n",
      "Your guess is wrong!\n",
      "enter a single digit guess or 'q' to quit: 1\n",
      "start checking GUESS block\n",
      "Your guess is wrong!\n",
      "enter a single digit guess or 'q' to quit: 4\n",
      "start checking GUESS block\n",
      "Your guess is wrong!\n",
      "enter a single digit guess or 'q' to quit: 5\n",
      "start checking GUESS block\n",
      "Your guess is wrong!\n",
      "enter a single digit guess or 'q' to quit: 6\n",
      "start checking GUESS block\n",
      "Your guess is correct!\n",
      "enter a single digit guess or 'q' to quit: q\n"
     ]
    }
   ],
   "source": [
    "# Block 2\n",
    "while guess.isdigit():\n",
    "    if digit == '.':\n",
    "        digit = pi_file.read(1)\n",
    "        continue\n",
    "    elif digit == '\\n':\n",
    "        # I don't figured out what does task mean:\n",
    "        # \"else if digit is \"\\n\" increment seed and use seed to set the pointer uing .seek()\"\n",
    "        # so I implemented my own solution.\n",
    "        print(\"\\nWhoah! You found last available for guessing digit of PI in the program!\\nLet's start again!\\n\")\n",
    "        seed = 0\n",
    "        pi_file.seek(seed)\n",
    "        digit = pi_file.read(1)\n",
    "    else:\n",
    "        print(\"start checking GUESS block\")\n",
    "        if guess == digit:\n",
    "            cnt_correct += 1\n",
    "            print(\"Your guess is correct!\")\n",
    "            digit = pi_file.read(1)\n",
    "        else:\n",
    "            cnt_wrong += 1\n",
    "            print(\"Your guess is wrong!\")\n",
    "    guess = input(\"enter a single digit guess or 'q' to quit: \")"
   ]
  },
  {
   "cell_type": "code",
   "execution_count": 10,
   "metadata": {},
   "outputs": [
    {
     "name": "stdout",
     "output_type": "stream",
     "text": [
      "\n",
      "Total attemps are\t 17\n",
      "Correct guesses are\t 3\n",
      "Wrong guesses are\t 14\n",
      "\n"
     ]
    }
   ],
   "source": [
    "print(\"\\nTotal attemps are\\t\", cnt_correct + cnt_wrong)\n",
    "print(\"Correct guesses are\\t\", cnt_correct)\n",
    "print(\"Wrong guesses are\\t\", cnt_wrong)\n",
    "print()\n",
    "\n",
    "pi_file.close()"
   ]
  },
  {
   "cell_type": "markdown",
   "metadata": {
    "collapsed": true
   },
   "source": [
    "[Terms of use](http://go.microsoft.com/fwlink/?LinkID=206977) &nbsp; [Privacy & cookies](https://go.microsoft.com/fwlink/?LinkId=521839) &nbsp; © 2017 Microsoft"
   ]
  }
 ],
 "metadata": {
  "anaconda-cloud": {},
  "kernelspec": {
   "display_name": "Python 3",
   "language": "python",
   "name": "python3"
  },
  "language_info": {
   "codemirror_mode": {
    "name": "ipython",
    "version": 3
   },
   "file_extension": ".py",
   "mimetype": "text/x-python",
   "name": "python",
   "nbconvert_exporter": "python",
   "pygments_lexer": "ipython3",
   "version": "3.5.1"
  }
 },
 "nbformat": 4,
 "nbformat_minor": 1
}
